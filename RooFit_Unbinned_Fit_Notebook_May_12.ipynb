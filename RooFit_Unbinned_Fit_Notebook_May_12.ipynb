{
 "metadata": {
  "name": "",
  "signature": "sha256:8ce9b7e4cc7b43e92c8c58f7c31eaf091ce4803ddfa793a58442c3347c205255"
 },
 "nbformat": 3,
 "nbformat_minor": 0,
 "worksheets": [
  {
   "cells": [
    {
     "cell_type": "code",
     "collapsed": false,
     "input": [
      "import ROOT\n",
      "from math import sqrt\n",
      "from ROOT import TFile, TDirectory, TH1F, TCanvas, TLegend, TLine, TText, TPad, TF1\n",
      "import rootnotes\n",
      "import rootprint\n",
      "from ROOT import RooRealVar, RooFormulaVar, RooVoigtian, RooChebychev, RooArgList, \\\n",
      "                 RooArgSet, RooAddPdf, RooDataSet, RooCategory, RooSimultaneous, \\\n",
      "                 RooBreitWigner, RooCBShape, RooFFTConvPdf, RooPlot, RooAbsData, RooFit, \\\n",
      "                 RooExponential"
     ],
     "language": "python",
     "metadata": {},
     "outputs": [],
     "prompt_number": 1
    },
    {
     "cell_type": "markdown",
     "metadata": {},
     "source": [
      "Define variables here...."
     ]
    },
    {
     "cell_type": "code",
     "collapsed": false,
     "input": [
      "%%rootprint\n",
      "Lxy = RooRealVar(\"Lxy\",\"Lxy\",0, 15)\n",
      "weight = RooRealVar(\"weight\", \"weight\", 0, 20)\n",
      "ArgSet = RooArgSet(\"ArgSet\")\n",
      "ArgSet.add(Lxy)\n",
      "ArgSet.add(weight)\n",
      "dataset = RooDataSet(\"dataset\", \"dataset\", ArgSet, \"weight\")\n",
      "\n",
      "#Add data points to the dataset by hand\n",
      "Lxy.setVal(0)\n",
      "w = 16\n",
      "dataset.add(ArgSet, w, 0)\n",
      "Lxy.setVal(2.56)\n",
      "w= 14\n",
      "dataset.add(ArgSet, w, 0)\n",
      "Lxy.setVal(3.57)\n",
      "w = 12\n",
      "dataset.add(ArgSet, w, 0)\n",
      "Lxy.setVal(4.18)\n",
      "w = 9\n",
      "dataset.add(ArgSet, w, 0)\n",
      "Lxy.setVal(4.36)\n",
      "w = 8\n",
      "dataset.add(ArgSet, w, 0)\n",
      "Lxy.setVal(4.82)\n",
      "w = 6\n",
      "dataset.add(ArgSet, w, 0)\n",
      "Lxy.setVal(6.69)\n",
      "w = 4\n",
      "dataset.add(ArgSet, w, 0)\n",
      "Lxy.setVal(7.57)\n",
      "w = 3\n",
      "dataset.add(ArgSet, w, 0)\n",
      "Lxy.setVal(8.76)\n",
      "w = 1\n",
      "dataset.add(ArgSet, w, 0)\n",
      "\n",
      "#dataset.Print(\"v\")\n",
      "\n"
     ],
     "language": "python",
     "metadata": {},
     "outputs": [
      {
       "output_type": "stream",
       "stream": "stdout",
       "text": [
        "\n"
       ]
      }
     ],
     "prompt_number": 2
    },
    {
     "cell_type": "markdown",
     "metadata": {},
     "source": [
      "Define fit and ploting functions..."
     ]
    },
    {
     "cell_type": "code",
     "collapsed": false,
     "input": [
      "#frame = Lxy.frame()\n",
      "#y_arr = frame.GetY()\n",
      "#for i in range(0,frame.GetN()):\n",
      "#  if y_arr[i] == 0:\n",
      "#    frame.SetPointError(i,0.,0.,0.,0.,)"
     ],
     "language": "python",
     "metadata": {},
     "outputs": [
      {
       "ename": "AttributeError",
       "evalue": "'RooPlot' object has no attribute 'GetY'",
       "output_type": "pyerr",
       "traceback": [
        "\u001b[0;31m---------------------------------------------------------------------------\u001b[0m\n\u001b[0;31mAttributeError\u001b[0m                            Traceback (most recent call last)",
        "\u001b[0;32m<ipython-input-3-b014524529d1>\u001b[0m in \u001b[0;36m<module>\u001b[0;34m()\u001b[0m\n\u001b[1;32m      1\u001b[0m \u001b[0mframe\u001b[0m \u001b[0;34m=\u001b[0m \u001b[0mLxy\u001b[0m\u001b[0;34m.\u001b[0m\u001b[0mframe\u001b[0m\u001b[0;34m(\u001b[0m\u001b[0;34m)\u001b[0m\u001b[0;34m\u001b[0m\u001b[0m\n\u001b[0;32m----> 2\u001b[0;31m \u001b[0my_arr\u001b[0m \u001b[0;34m=\u001b[0m \u001b[0mframe\u001b[0m\u001b[0;34m.\u001b[0m\u001b[0mGetY\u001b[0m\u001b[0;34m(\u001b[0m\u001b[0;34m)\u001b[0m\u001b[0;34m\u001b[0m\u001b[0m\n\u001b[0m\u001b[1;32m      3\u001b[0m \u001b[0;32mfor\u001b[0m \u001b[0mi\u001b[0m \u001b[0;32min\u001b[0m \u001b[0mrange\u001b[0m\u001b[0;34m(\u001b[0m\u001b[0;36m0\u001b[0m\u001b[0;34m,\u001b[0m\u001b[0mframe\u001b[0m\u001b[0;34m.\u001b[0m\u001b[0mGetN\u001b[0m\u001b[0;34m(\u001b[0m\u001b[0;34m)\u001b[0m\u001b[0;34m)\u001b[0m\u001b[0;34m:\u001b[0m\u001b[0;34m\u001b[0m\u001b[0m\n\u001b[1;32m      4\u001b[0m   \u001b[0;32mif\u001b[0m \u001b[0my_arr\u001b[0m\u001b[0;34m[\u001b[0m\u001b[0mi\u001b[0m\u001b[0;34m]\u001b[0m \u001b[0;34m==\u001b[0m \u001b[0;36m0\u001b[0m\u001b[0;34m:\u001b[0m\u001b[0;34m\u001b[0m\u001b[0m\n\u001b[1;32m      5\u001b[0m     \u001b[0mframe\u001b[0m\u001b[0;34m.\u001b[0m\u001b[0mSetPointError\u001b[0m\u001b[0;34m(\u001b[0m\u001b[0mi\u001b[0m\u001b[0;34m,\u001b[0m\u001b[0;36m0.\u001b[0m\u001b[0;34m,\u001b[0m\u001b[0;36m0.\u001b[0m\u001b[0;34m,\u001b[0m\u001b[0;36m0.\u001b[0m\u001b[0;34m,\u001b[0m\u001b[0;36m0.\u001b[0m\u001b[0;34m,\u001b[0m\u001b[0;34m)\u001b[0m\u001b[0;34m\u001b[0m\u001b[0m\n",
        "\u001b[0;31mAttributeError\u001b[0m: 'RooPlot' object has no attribute 'GetY'"
       ]
      }
     ],
     "prompt_number": 3
    },
    {
     "cell_type": "code",
     "collapsed": false,
     "input": [
      "frame = Lxy.frame()\n",
      "dataset.plotOn(frame)\n",
      "\n",
      "c1 = TCanvas(\"c1\", \"c1\", 500, 500)\n",
      "#frame.Draw()\n",
      "a = RooRealVar(\"a\", \"a\", -20, 20)\n",
      "fit_expo = RooExponential(\"fit_expo\", \"fit_expo\", Lxy, a)\n",
      "\n",
      "fit_expo.fitTo(dataset)\n",
      "fit_expo.plotOn(frame)\n",
      "\n",
      "#c2 = TCanvas(\"c2\",\"c2\", 500, 500)\n",
      "frame.SetMinimum(1e-5)\n",
      "frame.Draw()\n",
      "\n",
      "c1"
     ],
     "language": "python",
     "metadata": {},
     "outputs": [
      {
       "output_type": "stream",
       "stream": "stderr",
       "text": [
        "TCanvas::Constructor:0: RuntimeWarning: Deleting canvas with same name: c1\n"
       ]
      },
      {
       "metadata": {},
       "output_type": "pyout",
       "png": "[encoded data removed]",
       "prompt_number": 5,
       "text": [
        "<ROOT.TCanvas object (\"c1\") at 0x7fac23327a90>"
       ]
      }
     ],
     "prompt_number": 5
    },
    {
     "cell_type": "markdown",
     "metadata": {},
     "source": [
      "Define exponential pdf..."
     ]
    },
    {
     "cell_type": "code",
     "collapsed": false,
     "input": [
      "%%rootprint\n",
      "a = RooRealVar(\"a\", \"a\", -20, 0)\n",
      "fit_expo = RooExponential(\"fit_expo\", \"fit_expo\", Lxy, a)\n",
      "\n",
      "fit_expo.fitTo(dataset)\n",
      "fit_expo.plotOn(frame)\n",
      "\n",
      "c2 = TCanvas(\"c2\",\"c2\", 500, 500)\n",
      "frame.Draw()\n",
      "\n",
      "fit_expo.Print()\n",
      "#c2\n"
     ],
     "language": "python",
     "metadata": {},
     "outputs": [
      {
       "output_type": "stream",
       "stream": "stdout",
       "text": [
        "[#1] INFO:Minization -- RooMinuit::optimizeConst: activating const optimization\n",
        " **********\n",
        " **   13 **MIGRAD         500           1\n",
        " **********\n",
        " FIRST CALL TO USER FUNCTION AT NEW START POINT, WITH IFLAG=4.\n",
        " START MIGRAD MINIMIZATION.  STRATEGY  1.  CONVERGENCE WHEN EDM .LT. 1.00e-03\n",
        " FCN=2215.21 FROM MIGRAD    STATUS=INITIATE        4 CALLS           5 TOTAL\n",
        "                     EDM= unknown      STRATEGY= 1      NO ERROR MATRIX       \n",
        "  EXT PARAMETER               CURRENT GUESS       STEP         FIRST   \n",
        "  NO.   NAME      VALUE            ERROR          SIZE      DERIVATIVE \n",
        "   1  a           -1.00000e+01   2.00000e+00   2.01358e-01  -2.31029e+03\n",
        "                               ERR DEF= 0.5\n",
        " MIGRAD MINIMIZATION HAS CONVERGED.\n",
        " MIGRAD WILL VERIFY CONVERGENCE AND ERROR MATRIX.\n",
        " COVARIANCE MATRIX CALCULATED SUCCESSFULLY\n",
        " FCN=158.532 FROM MIGRAD    STATUS=CONVERGED      28 CALLS          29 TOTAL\n",
        "                     EDM=1.6826e-07    STRATEGY= 1      ERROR MATRIX ACCURATE \n",
        "  EXT PARAMETER                                   STEP         FIRST   \n",
        "  NO.   NAME      VALUE            ERROR          SIZE      DERIVATIVE \n",
        "   1  a           -2.88600e-01   3.90966e-02   1.43727e-04  -2.50230e-02\n",
        "                               ERR DEF= 0.5\n",
        " EXTERNAL ERROR MATRIX.    NDIM=  25    NPAR=  1    ERR DEF=0.5\n",
        "  1.529e-03 \n",
        " **********\n",
        " **   18 **HESSE         500\n",
        " **********\n",
        " COVARIANCE MATRIX CALCULATED SUCCESSFULLY\n",
        " FCN=158.532 FROM HESSE     STATUS=OK              5 CALLS          34 TOTAL\n",
        "                     EDM=1.6826e-07    STRATEGY= 1      ERROR MATRIX ACCURATE \n",
        "  EXT PARAMETER                                INTERNAL      INTERNAL  \n",
        "  NO.   NAME      VALUE            ERROR       STEP SIZE       VALUE   \n",
        "   1  a           -2.88600e-01   3.90966e-02   4.52579e-05   1.89826e+02\n",
        "                               ERR DEF= 0.5\n",
        " EXTERNAL ERROR MATRIX.    NDIM=  25    NPAR=  1    ERR DEF=0.5\n",
        "  1.529e-03 \n",
        "[#1] INFO:Minization -- RooMinuit::optimizeConst: deactivating const optimization\n",
        "RooExponential::fit_expo[ x=Lxy c=a ] = 0.0798076\n",
        "\n"
       ]
      },
      {
       "output_type": "stream",
       "stream": "stderr",
       "text": [
        "TCanvas::Constructor:0: RuntimeWarning: Deleting canvas with same name: c2\n"
       ]
      }
     ],
     "prompt_number": 8
    },
    {
     "cell_type": "code",
     "collapsed": false,
     "input": [],
     "language": "python",
     "metadata": {},
     "outputs": []
    }
   ],
   "metadata": {}
  }
 ]
}