{
 "metadata": {
  "name": "",
  "signature": "sha256:7987b6d67e576c5ae688860546e1bd1def6a067681f0c44ce99b1c5535e4d2e9"
 },
 "nbformat": 3,
 "nbformat_minor": 0,
 "worksheets": [
  {
   "cells": [
    {
     "cell_type": "code",
     "collapsed": false,
     "input": [
      "from math import sqrt\n",
      "import ROOT\n",
      "from ROOT import TFile, TDirectory, TH1F, TCanvas, TLegend, TLine, TText, TPad\n",
      "import rootnotes\n",
      "ROOT.gStyle.SetErrorX(0) #To remove horizontal bars...\n",
      "#gStyle.SetTitleYSize(0.02)"
     ],
     "language": "python",
     "metadata": {},
     "outputs": [],
     "prompt_number": 1
    },
    {
     "cell_type": "markdown",
     "metadata": {},
     "source": [
      "Acceptance is defined as\n",
      "- $p_T > 21$ GeV/c\n",
      "- $|\\eta| < 2$\n",
      "- gen-decay length < 500 cm"
     ]
    },
    {
     "cell_type": "heading",
     "level": 1,
     "metadata": {},
     "source": [
      "Background"
     ]
    },
    {
     "cell_type": "markdown",
     "metadata": {},
     "source": [
      "We have 2D d0Sig vs. LxySig plots for both control region of data. We sliced LxySig axis into the bins each of which has a width of 0.5. Note that at least for this purpose, we cut on d0Sig, absolute value of which is to be less than several numbers. "
     ]
    },
    {
     "cell_type": "code",
     "collapsed": false,
     "input": [
      "inputFileData = TFile.Open(\"/Users/melihsolmaz/Desktop/ipython/Data22Jan_combined_2saMu_June_4_bin_width_0_5.root\")\n",
      "#nMinus1_looseCollCuts = inputFileData.Get(\"nMinus1_leptonD0Sig_vs_LxySig_looseCollCuts\")\n",
      "nMinus1_looseControlCollCuts = inputFileData.Get(\"nMinus1_leptonD0Sig_vs_LxySig_looseControlCollCuts\")\n",
      "\n",
      "def LxySig_distribution(x):\n",
      "#final_region_dist = ROOT.TH1F(\"final_region\", \"\", 24, 0, 12)\n",
      "    control_region_dist = ROOT.TH1F(\"control_region\"+str(x), \"\", 24, 0, 12)\n",
      "\n",
      "#Some Histogram Settings\n",
      "    control_region_dist.GetXaxis().SetTitle(\"L_{xy}/#sigma_{L_{xy}}\")\n",
      "    control_region_dist.GetYaxis().SetTitle(\"Number of events\")\n",
      "    control_region_dist.SetTitle(\"#scale[0.8]{CMS Preliminary #sqrt{s} = 8 TeV, L = 20.5 fb^{-1}}\")\n",
      "\n",
      "#final_region_dist.SetStats(0)\n",
      "    control_region_dist.SetStats(0)\n",
      "#final_region_dist.SetMarkerStyle(8)\n",
      "    control_region_dist.SetMarkerStyle(21)\n",
      "#final_region_dist.SetMarkerColor(2)\n",
      "    control_region_dist.SetMarkerColor(1)\n",
      "#final_region_dist.SetLineColor(2)\n",
      "    control_region_dist.SetLineColor(1)\n",
      "#final_region_dist.Sumw2\n",
      "    control_region_dist.Sumw2\n",
      "\n",
      "#control_region_dist.SetMaximum(400.0)\n",
      "\n",
      "\n",
      "#nYbins= nMinus1_looseControlCollCuts.GetNbinsY()\n",
      "#print \"nYbins= \", nYbins\n",
      "\n",
      "#nXbins= nMinus1_looseControlCollCuts.GetNbinsX()\n",
      "#print \"nXbins= \", nXbins\n",
      "\n",
      "#Loop to write down new histos...\n",
      "\n",
      "    for i in range(1,20):\n",
      "#    final_region_dist.SetBinContent(i, nMinus1_looseCollCuts.Integral(1, 8, i, 12))\n",
      "        control_region_dist.SetBinContent(i, nMinus1_looseControlCollCuts.Integral(2*x+1, 40, i, i))\n",
      "\n",
      "# Legend\n",
      "    leg = TLegend(0.6,0.6,0.85,0.85)\n",
      "    leg.SetFillColor(0)\n",
      "    leg.SetLineColor(0)\n",
      "#leg.AddEntry(final_region_dist, \"Signal (|#Delta#Phi| < #pi/2)\", \"pl\")\n",
      "    leg.AddEntry(control_region_dist, \"Control (|#Delta#Phi| > #pi/2)\", \"pl\")\n",
      "\n",
      "#Line\n",
      "    line = TLine(6, 0, 6, 100)\n",
      "    line.SetLineColor(4)\n",
      "    line.SetLineStyle(2)\n",
      "\n",
      "#Text\n",
      "    text1 = TText(7, 1, \"Excluded Region\")\n",
      "    text2 = TText(9, 100, \"Data\")\n",
      "\n",
      "\n",
      "#print \"total number of entries = \", control_region_dist.GetEntries()    \n",
      "    canvas=TCanvas()\n",
      "    control_region_dist.Draw(\"e\")\n",
      "#final_region_dist.Draw(\"esame\")\n",
      "    leg.Draw(\"same\")\n",
      "#    line.Draw()\n",
      "#    text1.Draw()\n",
      "    text2.Draw()\n",
      "    canvas.Draw()\n",
      "    canvas.SetLogy(True)\n",
      "#canvas\n",
      "    return canvas, control_region_dist, leg, text2, line\n",
      "    \n",
      "\n"
     ],
     "language": "python",
     "metadata": {},
     "outputs": [],
     "prompt_number": 2
    },
    {
     "cell_type": "markdown",
     "metadata": {},
     "source": [
      "d0Sig > 0:"
     ]
    },
    {
     "cell_type": "code",
     "collapsed": false,
     "input": [
      "result = LxySig_distribution(0)\n",
      "result[0]"
     ],
     "language": "python",
     "metadata": {},
     "outputs": [
      {
       "metadata": {},
       "output_type": "pyout",
       "png": "[encoded data removed]",
       "prompt_number": 3,
       "text": [
        "<ROOT.TCanvas object (\"c1\") at 0x7f880d730220>"
       ]
      }
     ],
     "prompt_number": 3
    },
    {
     "cell_type": "markdown",
     "metadata": {},
     "source": [
      "d0Sig > 1:"
     ]
    },
    {
     "cell_type": "code",
     "collapsed": false,
     "input": [
      "result1 = LxySig_distribution(1)\n",
      "result1[0]"
     ],
     "language": "python",
     "metadata": {},
     "outputs": [
      {
       "metadata": {},
       "output_type": "pyout",
       "png": "[encoded data removed]",
       "prompt_number": 4,
       "text": [
        "<ROOT.TCanvas object (\"c1_n2\") at 0x7f880d73e0f0>"
       ]
      }
     ],
     "prompt_number": 4
    },
    {
     "cell_type": "markdown",
     "metadata": {},
     "source": [
      "d0Sig > 2:"
     ]
    },
    {
     "cell_type": "code",
     "collapsed": false,
     "input": [
      "result2 = LxySig_distribution(2)\n",
      "result2[0]"
     ],
     "language": "python",
     "metadata": {},
     "outputs": [
      {
       "metadata": {},
       "output_type": "pyout",
       "png": "[encoded data removed]",
       "prompt_number": 5,
       "text": [
        "<ROOT.TCanvas object (\"c1_n3\") at 0x7f880e035900>"
       ]
      }
     ],
     "prompt_number": 5
    },
    {
     "cell_type": "code",
     "collapsed": false,
     "input": [],
     "language": "python",
     "metadata": {},
     "outputs": []
    }
   ],
   "metadata": {}
  }
 ]
}