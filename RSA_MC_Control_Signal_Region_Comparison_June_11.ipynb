{
 "metadata": {
  "name": "",
  "signature": "sha256:e5d7407529537b9e6006264d650fa86c44b4c0602f81fdc0b9af4004bf86a0e6"
 },
 "nbformat": 3,
 "nbformat_minor": 0,
 "worksheets": [
  {
   "cells": [
    {
     "cell_type": "code",
     "collapsed": false,
     "input": [
      "from math import sqrt\n",
      "import ROOT\n",
      "from ROOT import TFile, TDirectory, TH1F, TCanvas, TLegend, TLine, TText, TPad\n",
      "import rootnotes\n",
      "ROOT.gStyle.SetErrorX(0) #To remove horizontal bars...\n",
      "#gStyle.SetTitleYSize(0.02)"
     ],
     "language": "python",
     "metadata": {},
     "outputs": [],
     "prompt_number": 1
    },
    {
     "cell_type": "code",
     "collapsed": false,
     "input": [],
     "language": "python",
     "metadata": {},
     "outputs": [],
     "prompt_number": 3
    },
    {
     "cell_type": "markdown",
     "metadata": {},
     "source": [
      "Acceptance is defined as\n",
      "- $p_T > 21$ GeV/c\n",
      "- $|\\eta| < 2$\n",
      "- gen-decay length < 500 cm"
     ]
    },
    {
     "cell_type": "heading",
     "level": 1,
     "metadata": {},
     "source": [
      "Background"
     ]
    },
    {
     "cell_type": "markdown",
     "metadata": {},
     "source": [
      "We have 2D d0Sig vs. LxySig plots for both control and signal regions. We sliced LxySig axis into the bins each of which has a width of 0.5. Note that at least for this purpose, we cut on d0Sig, absolute value of which is to be less than 4 to make sure that they are prompt background. On the other hand, we studied LxySig region from the x, tentative cut value up to 6 since the background might be mixed with signal if one approaches to LxySig=12, final cut value. We integrated on LxySig axis not bin by bin but cumulatively."
     ]
    },
    {
     "cell_type": "code",
     "collapsed": false,
     "input": [
      "inputFileData = TFile.Open(\"/Users/melihsolmaz/Desktop/ipython/MC_background_symmetry_with_track_rejection.root\")\n",
      "nMinus1_looseCollCuts = inputFileData.Get(\"nMinus1_leptonD0Sig_vs_LxySig_looseCollCuts\")\n",
      "nMinus1_looseControlCollCuts = inputFileData.Get(\"nMinus1_leptonD0Sig_vs_LxySig_looseControlCollCuts\")\n",
      "\n",
      "final_region_dist = ROOT.TH1F(\"final_region\", \"\", 24, 0, 12)\n",
      "control_region_dist = ROOT.TH1F(\"control_region\", \"\", 24, 0, 12)\n",
      "\n",
      "#Some Histogram Settings\n",
      "control_region_dist.GetXaxis().SetTitle(\"L_{xy}/#sigma_{L_{xy}}\")\n",
      "control_region_dist.GetYaxis().SetTitle(\"Number of events with x < L_{xy}/#sigma_{L_{xy}} < 6 \")\n",
      "control_region_dist.SetTitle(\"#scale[0.8]{CMS Preliminary #sqrt{s} = 8 TeV, L = 20.5 fb^{-1}}\")\n",
      "\n",
      "final_region_dist.SetStats(0)\n",
      "control_region_dist.SetStats(0)\n",
      "final_region_dist.SetMarkerStyle(8)\n",
      "control_region_dist.SetMarkerStyle(21)\n",
      "final_region_dist.SetMarkerColor(2)\n",
      "control_region_dist.SetMarkerColor(1)\n",
      "final_region_dist.SetLineColor(2)\n",
      "control_region_dist.SetLineColor(1)\n",
      "final_region_dist.Sumw2\n",
      "control_region_dist.Sumw2\n",
      "\n",
      "#control_region_dist.SetMaximum(400.0)\n",
      "\n",
      "\n",
      "#nYbins= nMinus1_looseControlCollCuts.GetNbinsY()\n",
      "#print \"nYbins= \", nYbins\n",
      "\n",
      "#nXbins= nMinus1_looseControlCollCuts.GetNbinsX()\n",
      "#print \"nXbins= \", nXbins\n",
      "\n",
      "#Loop to write down new histos...\n",
      "\n",
      "for i in range(1,13):\n",
      "    final_region_dist.SetBinContent(i, (nMinus1_looseCollCuts.Integral(1, 8, i, 12))*20531.9900032)\n",
      "    control_region_dist.SetBinContent(i, (nMinus1_looseControlCollCuts.Integral(1, 8, i, 12))*20531.9900032)\n",
      "\n",
      "# Legend\n",
      "leg = TLegend(0.6,0.6,0.85,0.85)\n",
      "leg.SetFillColor(0)\n",
      "leg.SetLineColor(0)\n",
      "leg.AddEntry(final_region_dist, \"Signal (|#Delta#Phi| < #pi/2)\", \"pl\")\n",
      "leg.AddEntry(control_region_dist, \"Control (|#Delta#Phi| > #pi/2)\", \"pl\")\n",
      "\n",
      "#Line\n",
      "line = TLine(6, 0, 6, 250)\n",
      "line.SetLineColor(4)\n",
      "line.SetLineStyle(2)\n",
      "\n",
      "#Text\n",
      "text1 = TText(7, 0.3, \"Excluded Region\")\n",
      "text2 = TText(9, 120, \"MC\")\n",
      "\n",
      "#print \"total number of entries = \", control_region_dist.GetEntries()    \n",
      "canvas=TCanvas()\n",
      "control_region_dist.Draw(\"e\")\n",
      "final_region_dist.Draw(\"esame\")\n",
      "leg.Draw(\"same\")\n",
      "line.Draw()\n",
      "text1.Draw()\n",
      "text2.Draw()\n",
      "canvas.Draw()\n",
      "canvas.SetLogy(True)\n",
      "canvas\n",
      "  \n",
      "    \n",
      "\n"
     ],
     "language": "python",
     "metadata": {},
     "outputs": [
      {
       "metadata": {},
       "output_type": "pyout",
       "png": "[encoded data removed]",
       "prompt_number": 6,
       "text": [
        "<ROOT.TCanvas object (\"c1_n4\") at 0x7fc6559159d0>"
       ]
      }
     ],
     "prompt_number": 6
    },
    {
     "cell_type": "markdown",
     "metadata": {},
     "source": [
      "Now, the difference between signal and control plots is taken and it is plotted in terms of propagated error below"
     ]
    },
    {
     "cell_type": "code",
     "collapsed": false,
     "input": [
      "\n",
      "diff_region_dist = TH1F(\"diff_region\", \"\", 24, 0, 12)\n",
      "\n",
      "\n",
      "for j in range(1, 13):\n",
      "    a = sqrt(final_region_dist.GetBinError(j)**2+control_region_dist.GetBinError(j)**2)\n",
      "    \n",
      "#    print \" j = \", j, \" a = \", a\n",
      "#    print \" GetBincontent_final = \", final_region_dist.GetBinContent(j)\n",
      "#    print \" GetBinError_final = \", final_region_dist.GetBinError(j)\n",
      "#    print \" GetBincontent_control = \", control_region_dist.GetBinContent(j)\n",
      "#    print \" GetBinError_control = \", control_region_dist.GetBinError(j)\n",
      "    diff_region_dist.SetBinContent(j, (final_region_dist.GetBinContent(j)-control_region_dist.GetBinContent(j))/a)\n",
      "    diff_region_dist.SetBinError(j, 1)\n",
      "\n",
      "diff_region_dist.GetXaxis().SetTitle(\"L_{xy}/#sigma_{L_{xy}}\")\n",
      "diff_region_dist.GetYaxis().SetTitle(\"Signal - Control Difference (#sigma)\")\n",
      "diff_region_dist.SetMarkerStyle(8)\n",
      "diff_region_dist.SetMarkerColor(1)\n",
      "diff_region_dist.SetMinimum(-3.0)\n",
      "diff_region_dist.SetMaximum(3.0)\n",
      "diff_region_dist.SetStats(0)\n",
      "\n",
      "#Line\n",
      "line2 = TLine(0, 0, 12, 0)\n",
      "line2.SetLineStyle(2)\n",
      "line2.SetLineColor(1)\n",
      "\n",
      "canvas2 = TCanvas()\n",
      "diff_region_dist.Draw(\"e\")\n",
      "line2.Draw()\n",
      "canvas2.Draw()\n",
      "canvas2\n"
     ],
     "language": "python",
     "metadata": {},
     "outputs": [
      {
       "metadata": {},
       "output_type": "pyout",
       "png": "[encoded data removed]",
       "prompt_number": 4,
       "text": [
        "<ROOT.TCanvas object (\"c1_n2\") at 0x7fc6549aa750>"
       ]
      }
     ],
     "prompt_number": 4
    },
    {
     "cell_type": "markdown",
     "metadata": {},
     "source": [
      "The part below is for putting two plots on top of each other..."
     ]
    },
    {
     "cell_type": "code",
     "collapsed": false,
     "input": [
      "canvas_1 = TCanvas(\"canvas_1\", \"\", 800, 800)\n",
      "#canvas_1 = TCanvas(\"canvas_1\", \"canvas_1\", 500, 800)\n",
      "canvas_1.Draw()\n",
      "p1 = TPad(\"p1\", \"\", 0.0, 0.4, 1.0, 1.0)\n",
      "p1.Draw()\n",
      "p1.cd()\n",
      "\n",
      "#Some Minor Changes\n",
      "diff_region_dist.GetXaxis().SetTitle(\"\")\n",
      "diff_region_dist.GetYaxis().SetTitle(\"Difference (#sigma)\")\n",
      "diff_region_dist.SetTitle(\"Signal - Control Difference (#sigma)\")\n",
      "control_region_dist.GetYaxis().SetTitleSize(1.2)\n",
      "control_region_dist.GetYaxis().SetTitleSize(0.05)\n",
      "control_region_dist.GetXaxis().SetTitleSize(1.5)\n",
      "control_region_dist.GetXaxis().SetTitleSize(0.045)\n",
      "diff_region_dist.GetYaxis().SetTitleSize(0.05)\n",
      "control_region_dist.Draw(\"e\")\n",
      "final_region_dist.Draw(\"esame\")\n",
      "leg.Draw(\"same\")\n",
      "line.Draw()\n",
      "text1.Draw()\n",
      "text2.Draw()\n",
      "p1.SetLogy(True)\n",
      "p1.Update()\n",
      "\n",
      "\n",
      "canvas_1.cd()\n",
      "p2 = TPad(\"p2\", \"\", 0.0, 0.0, 1.0, 0.4)\n",
      "p2.Draw()\n",
      "p2.cd()\n",
      "diff_region_dist.Draw(\"e\")\n",
      "line2.Draw()\n",
      "p2.Update()\n",
      "canvas_1.SaveAs(\"superimposed_bckg_MC_symmetry_June_11.png\")\n",
      "canvas_1.SaveAs(\"superimposed_bckg_MC_symmetry_June_11.pdf\")\n",
      "canvas_1"
     ],
     "language": "python",
     "metadata": {},
     "outputs": [
      {
       "output_type": "stream",
       "stream": "stderr",
       "text": [
        "TCanvas::Constructor:0: RuntimeWarning: Deleting canvas with same name: canvas_1\n"
       ]
      },
      {
       "metadata": {},
       "output_type": "pyout",
       "png": "[encoded data removed]",
       "prompt_number": 11,
       "text": [
        "<ROOT.TCanvas object (\"canvas_1\") at 0x7ff8e9615440>"
       ]
      }
     ],
     "prompt_number": 11
    },
    {
     "cell_type": "markdown",
     "metadata": {},
     "source": [
      "Now, we are repating the same procedure for 4 < d0Sig < 6 and LxySig < 6..."
     ]
    },
    {
     "cell_type": "code",
     "collapsed": false,
     "input": [
      "final_region_dist_8 = ROOT.TH1F(\"final_region_8\", \"\", 24, 0, 12)\n",
      "control_region_dist_8 = ROOT.TH1F(\"control_region_8\", \"\", 24, 0, 12)\n",
      "\n",
      "#Some Histogram Settings\n",
      "control_region_dist_8.GetXaxis().SetTitle(\"L_{xy}/#sigma_{L_{xy}}\")\n",
      "control_region_dist_8.GetYaxis().SetTitle(\"Number of events with x < L_{xy}/#sigma_{L_{xy}} < 6 \")\n",
      "control_region_dist_8.SetTitle(\"#scale[0.8]{CMS Preliminary #sqrt{s} = 8 TeV, L = 20.5 fb^{-1}}\")\n",
      "\n",
      "final_region_dist_8.SetStats(0)\n",
      "control_region_dist_8.SetStats(0)\n",
      "final_region_dist_8.SetMarkerStyle(8)\n",
      "control_region_dist_8.SetMarkerStyle(21)\n",
      "final_region_dist_8.SetMarkerColor(2)\n",
      "control_region_dist_8.SetMarkerColor(1)\n",
      "final_region_dist_8.SetLineColor(2)\n",
      "control_region_dist_8.SetLineColor(1)\n",
      "final_region_dist_8.Sumw2\n",
      "control_region_dist_8.Sumw2\n",
      "\n",
      "for i in range(1,12):\n",
      "    final_region_dist_8.SetBinContent(i, nMinus1_looseCollCuts.Integral(8, 12, i, 12))\n",
      "    control_region_dist_8.SetBinContent(i, nMinus1_looseControlCollCuts.Integral(8, 12, i, 12))\n",
      "\n",
      "# Legend\n",
      "leg3 = TLegend(0.6,0.6,0.85,0.85)\n",
      "leg3.SetFillColor(0)\n",
      "leg3.SetLineColor(0)\n",
      "leg3.AddEntry(final_region_dist_8, \"Signal (|#Delta#Phi| < #pi/2)\", \"pl\")\n",
      "leg3.AddEntry(control_region_dist_8, \"Control (|#Delta#Phi| > #pi/2)\", \"pl\")\n",
      "\n",
      "\n",
      "#Line\n",
      "line3 = TLine(6, 0, 6, 13.0)\n",
      "line3.SetLineColor(4)\n",
      "line3.SetLineStyle(2)\n",
      "\n",
      "#Text\n",
      "text3 = TText(6.5, 2, \"Excluded Region\")\n",
      "\n",
      "\n",
      "canvas3=TCanvas()\n",
      "control_region_dist_8.Draw(\"e\")\n",
      "final_region_dist_8.Draw(\"esame\")\n",
      "leg3.Draw(\"same\")\n",
      "line3.Draw()\n",
      "text3.Draw()\n",
      "canvas3.Draw()\n",
      "#canvas.SetLogy(True)\n",
      "#canvas3"
     ],
     "language": "python",
     "metadata": {},
     "outputs": [
      {
       "output_type": "stream",
       "stream": "stderr",
       "text": [
        "TFile::Append:0: RuntimeWarning: Replacing existing TH1: final_region_8 (Potential memory leak).\n",
        "TFile::Append:0: RuntimeWarning: Replacing existing TH1: control_region_8 (Potential memory leak).\n"
       ]
      }
     ],
     "prompt_number": 7
    },
    {
     "cell_type": "code",
     "collapsed": false,
     "input": [
      "diff_region_dist_8 = TH1F(\"diff_region_8\", \"\", 24, 0, 12)\n",
      "\n",
      "\n",
      "for j in range(1, 12):\n",
      "    c = sqrt(final_region_dist_8.GetBinError(j)**2+control_region_dist_8.GetBinError(j)**2)    \n",
      "#    print \" j = \", j, \" a = \", c\n",
      "#    print \" GetBincontent_final = \", final_region_dist_8.GetBinContent(j)\n",
      "#    print \" GetBinError_final = \", final_region_dist_8.GetBinError(j)\n",
      "#    print \" GetBincontent_control = \", control_region_dist_8.GetBinContent(j)\n",
      "#    print \" GetBinError_control = \", control_region_dist_8.GetBinError(j)\n",
      "    diff_region_dist_8.SetBinContent(j, (final_region_dist_8.GetBinContent(j)-control_region_dist_8.GetBinContent(j))/c)\n",
      "    diff_region_dist_8.SetBinError(j, 1)\n",
      "\n",
      "diff_region_dist_8.GetXaxis().SetTitle(\"L_{xy}/#sigma_{L_{xy}}\")\n",
      "diff_region_dist_8.GetYaxis().SetTitle(\"Signal - Control Difference (#sigma)\")\n",
      "diff_region_dist_8.SetMarkerStyle(8)\n",
      "diff_region_dist_8.SetMarkerColor(1)\n",
      "diff_region_dist_8.SetMinimum(-3.0)\n",
      "diff_region_dist_8.SetMaximum(3.0)\n",
      "diff_region_dist_8.SetStats(0)\n",
      "\n",
      "#Line\n",
      "line4 = TLine(0, 0, 12, 0)\n",
      "line4.SetLineStyle(2)\n",
      "line4.SetLineColor(1)\n",
      "\n",
      "canvas4 = TCanvas()\n",
      "diff_region_dist_8.Draw(\"e\")\n",
      "line4.Draw()\n",
      "#canvas4.Draw()\n",
      "#canvas4"
     ],
     "language": "python",
     "metadata": {},
     "outputs": [],
     "prompt_number": 8
    },
    {
     "cell_type": "code",
     "collapsed": false,
     "input": [
      "canvas_2 = TCanvas(\"canvas_2\", \"\", 800, 800)\n",
      "#canvas_1 = TCanvas(\"canvas_1\", \"canvas_1\", 500, 800)\n",
      "canvas_2.Draw()\n",
      "p3 = TPad(\"p3\", \"\", 0.0, 0.4, 1.0, 1.0)\n",
      "p3.Draw()\n",
      "p3.cd()\n",
      "\n",
      "#Some Minor Changes\n",
      "diff_region_dist_8.GetXaxis().SetTitle(\"\")\n",
      "diff_region_dist_8.GetYaxis().SetTitle(\"Difference (#sigma)\")\n",
      "diff_region_dist_8.SetTitle(\"Signal - Control Difference (#sigma)\")\n",
      "control_region_dist_8.GetYaxis().SetTitleSize(1.2)\n",
      "control_region_dist_8.GetYaxis().SetTitleSize(0.05)\n",
      "control_region_dist_8.GetXaxis().SetTitleSize(1.5)\n",
      "control_region_dist_8.GetXaxis().SetTitleSize(0.045)\n",
      "diff_region_dist_8.GetYaxis().SetTitleSize(0.05)\n",
      "control_region_dist_8.Draw(\"e\")\n",
      "final_region_dist_8.Draw(\"esame\")\n",
      "leg3.Draw(\"same\")\n",
      "line3.Draw()\n",
      "text3.Draw()    \n",
      "#p3.SetLogy(True)\n",
      "p3.Update()\n",
      "\n",
      "\n",
      "canvas_2.cd()\n",
      "p4 = TPad(\"p4\", \"\", 0.0, 0.0, 1.0, 0.4)\n",
      "p4.Draw()\n",
      "p4.cd()\n",
      "diff_region_dist_8.Draw(\"e\")\n",
      "line4.Draw()\n",
      "p4.Update()\n",
      "#canvas_2.SaveAs(\"superimposed_canvas2_April_23.png\")\n",
      "#canvas_2.SaveAs(\"superimposed_canvas2_April_23.pdf\")\n",
      "#canvas_2"
     ],
     "language": "python",
     "metadata": {},
     "outputs": [],
     "prompt_number": 9
    },
    {
     "cell_type": "code",
     "collapsed": false,
     "input": [],
     "language": "python",
     "metadata": {},
     "outputs": []
    }
   ],
   "metadata": {}
  }
 ]
}