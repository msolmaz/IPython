{
 "metadata": {
  "name": "",
  "signature": "sha256:8f894e70cb1664f3489bd1dc8503e1213969cd9244a20c238c904f009cd35b26"
 },
 "nbformat": 3,
 "nbformat_minor": 0,
 "worksheets": [
  {
   "cells": [
    {
     "cell_type": "markdown",
     "metadata": {},
     "source": [
      "Use the data points from vertexChi2 > 4 and maxTrackChi2 > 2 cut sets... Note that there are only 5 data points... Once the machinery is ready, extra two data points can be easily added..."
     ]
    },
    {
     "cell_type": "code",
     "collapsed": false,
     "input": [
      "import ROOT\n",
      "from math import sqrt\n",
      "from ROOT import TFile, TDirectory, TH1F, TCanvas, TLegend, TLine, TText, TPad, TF1, TGraph\n",
      "import rootnotes\n",
      "import rootprint\n",
      "from array import *"
     ],
     "language": "python",
     "metadata": {},
     "outputs": [],
     "prompt_number": 1
    },
    {
     "cell_type": "code",
     "collapsed": false,
     "input": [
      "Lxy = array('d', [0, 3.85, 4.09, 4.36, 7.64, 8.75])\n",
      "nEvents = array('d', [5, 4, 3, 2, 1, 0])\n",
      "\n",
      "gr = TGraph(6, Lxy, nEvents)\n",
      "gr.SetMarkerStyle(21)\n",
      "gr.SetMarkerColor(1)\n",
      "\n",
      "func_fit = TF1(\"fit_function\",\"[0]*exp([1]*x)\", 0, 20)\n",
      "\n",
      "gr.Fit(\"fit_function\")\n",
      "c1 = TCanvas(\"c1\", \"c1\", 600, 600)\n",
      "c1.Draw()\n",
      "gr.Draw(\"AP\")\n",
      "c1"
     ],
     "language": "python",
     "metadata": {},
     "outputs": [
      {
       "metadata": {},
       "output_type": "pyout",
       "png": "[encoded data removed]",
       "prompt_number": 2,
       "text": [
        "<ROOT.TCanvas object (\"c1\") at 0x7fa75dc099d0>"
       ]
      }
     ],
     "prompt_number": 2
    },
    {
     "cell_type": "markdown",
     "metadata": {},
     "source": [
      "Expected bckg at x = 12"
     ]
    },
    {
     "cell_type": "code",
     "collapsed": false,
     "input": [
      "func_fit(12)"
     ],
     "language": "python",
     "metadata": {},
     "outputs": [
      {
       "metadata": {},
       "output_type": "pyout",
       "prompt_number": 4,
       "text": [
        "0.6033781767525164"
       ]
      }
     ],
     "prompt_number": 4
    },
    {
     "cell_type": "markdown",
     "metadata": {},
     "source": [
      "Calculating the error in estimated backg"
     ]
    },
    {
     "cell_type": "code",
     "collapsed": false,
     "input": [
      "def error_in_fit(func_fit, x) :\n",
      "    error_0 = func_fit.GetParError(0)\n",
      "    error_1 = func_fit.GetParError(1)\n",
      "    div_0 = func_fit(x)/(func_fit.GetParameter(0))\n",
      "    div_1 = x*func_fit(x)\n",
      "    return sqrt((div_0**2)*(error_0**2) + (div_1**2)*(error_1**2))"
     ],
     "language": "python",
     "metadata": {},
     "outputs": [],
     "prompt_number": 6
    },
    {
     "cell_type": "code",
     "collapsed": false,
     "input": [
      "error_in_fit(func_fit, 12)"
     ],
     "language": "python",
     "metadata": {},
     "outputs": [
      {
       "metadata": {},
       "output_type": "pyout",
       "prompt_number": 7,
       "text": [
        "0.36802894669420333"
       ]
      }
     ],
     "prompt_number": 7
    },
    {
     "cell_type": "code",
     "collapsed": false,
     "input": [],
     "language": "python",
     "metadata": {},
     "outputs": []
    }
   ],
   "metadata": {}
  }
 ]
}