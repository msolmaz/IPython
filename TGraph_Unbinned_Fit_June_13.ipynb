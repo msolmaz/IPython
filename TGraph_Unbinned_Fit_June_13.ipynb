{
 "metadata": {
  "name": "",
  "signature": "sha256:8da52dd2aca4c962ed73a8c984083ec80e410ffd4fde62035f10ecf6e9936b4f"
 },
 "nbformat": 3,
 "nbformat_minor": 0,
 "worksheets": [
  {
   "cells": [
    {
     "cell_type": "heading",
     "level": 3,
     "metadata": {},
     "source": [
      "Use the data points from vertexChi2 > 4 and maxTrackChi2 > 2 cut sets... Note that there are only 3 data points... Once the machinery is ready, extra two data points can be easily added..."
     ]
    },
    {
     "cell_type": "code",
     "collapsed": false,
     "input": [
      "import ROOT\n",
      "from math import sqrt\n",
      "from ROOT import TFile, TDirectory, TH1F, TCanvas, TLegend, TLine, TText, TPad, TF1, TGraph\n",
      "import rootnotes\n",
      "import rootprint\n",
      "from array import *\n",
      "ROOT.gStyle.SetOptStat(1111111)"
     ],
     "language": "python",
     "metadata": {},
     "outputs": [],
     "prompt_number": 1
    },
    {
     "cell_type": "code",
     "collapsed": false,
     "input": [
      "Lxy = array('d', [4.09, 4.36, 7.64])\n",
      "nEvents = array('d', [1, 1, 1])\n",
      "\n",
      "gr = TGraph(3, Lxy, nEvents)\n",
      "gr.SetMarkerStyle(21)\n",
      "gr.SetMarkerColor(1)\n",
      "\n",
      "gr.SetTitle(\"#scale[0.8]{CMS Preliminary #sqrt{s} = 8 TeV, L = 20.5 fb^{-1}}\")\n",
      "gr.GetXaxis().SetTitle(\"L_{xy}/#sigma_{L_{xy}}\")\n",
      "gr.GetYaxis().SetTitle(\"Number of events\")\n",
      "\n",
      "\n",
      "func_fit = TF1(\"fit_function\",\"expo\", 0, 20)\n",
      "func_fit.SetParameter(1, -0.3376)\n",
      "\n",
      "gr.Fit(\"fit_function\")\n",
      "c1 = TCanvas(\"c1\", \"c1\", 600, 600)\n",
      "c1.Draw()\n",
      "gr.Draw(\"AP\")\n",
      "c1"
     ],
     "language": "python",
     "metadata": {},
     "outputs": [
      {
       "metadata": {},
       "output_type": "pyout",
       "png": "[encoded data removed]",
       "prompt_number": 2,
       "text": [
        "<ROOT.TCanvas object (\"c1\") at 0x7fdbaa6b54b0>"
       ]
      }
     ],
     "prompt_number": 2
    },
    {
     "cell_type": "markdown",
     "metadata": {},
     "source": [
      "Expected bckg at x = 12"
     ]
    },
    {
     "cell_type": "code",
     "collapsed": false,
     "input": [
      "func_fit(12)"
     ],
     "language": "python",
     "metadata": {},
     "outputs": [
      {
       "metadata": {},
       "output_type": "pyout",
       "prompt_number": 5,
       "text": [
        "0.23036030173990046"
       ]
      }
     ],
     "prompt_number": 5
    },
    {
     "cell_type": "markdown",
     "metadata": {},
     "source": [
      "Expected bckg at x= 10"
     ]
    },
    {
     "cell_type": "code",
     "collapsed": false,
     "input": [
      "func_fit(10)"
     ],
     "language": "python",
     "metadata": {},
     "outputs": [
      {
       "metadata": {},
       "output_type": "pyout",
       "prompt_number": 4,
       "text": [
        "0.35534584151372034"
       ]
      }
     ],
     "prompt_number": 4
    },
    {
     "cell_type": "markdown",
     "metadata": {},
     "source": [
      "Calculating the error in estimated backg"
     ]
    },
    {
     "cell_type": "code",
     "collapsed": false,
     "input": [
      "def error_in_fit(func_fit, x) :\n",
      "    error_0 = func_fit.GetParError(0)\n",
      "    error_1 = func_fit.GetParError(1)\n",
      "    div_0 = func_fit(x)/(func_fit.GetParameter(0))\n",
      "    div_1 = x*func_fit(x)\n",
      "    return sqrt((div_0**2)*(error_0**2) + (div_1**2)*(error_1**2))"
     ],
     "language": "python",
     "metadata": {},
     "outputs": [],
     "prompt_number": 4
    },
    {
     "cell_type": "code",
     "collapsed": false,
     "input": [
      "error_in_fit(func_fit, 12)"
     ],
     "language": "python",
     "metadata": {},
     "outputs": [
      {
       "metadata": {},
       "output_type": "pyout",
       "prompt_number": 7,
       "text": [
        "0.23573962412866623"
       ]
      }
     ],
     "prompt_number": 7
    },
    {
     "cell_type": "code",
     "collapsed": false,
     "input": [
      "error_in_fit(func_fit, 10)"
     ],
     "language": "python",
     "metadata": {},
     "outputs": [
      {
       "metadata": {},
       "output_type": "pyout",
       "prompt_number": 8,
       "text": [
        "0.3059137240773706"
       ]
      }
     ],
     "prompt_number": 8
    },
    {
     "cell_type": "markdown",
     "metadata": {},
     "source": [
      "Normalized Chi2 = 0.46"
     ]
    },
    {
     "cell_type": "code",
     "collapsed": false,
     "input": [
      "d0 = array('d', [0, 0.234, 1.52])\n",
      "nEventsd0 = array('d', [2, 1, 0])\n",
      "\n",
      "grd0 = TGraph(3, d0, nEventsd0)\n",
      "grd0.SetMarkerStyle(21)\n",
      "grd0.SetMarkerColor(1)\n",
      "\n",
      "grd0.SetTitle(\"#scale[0.8]{CMS Preliminary #sqrt{s} = 8 TeV, L = 20.5 fb^{-1}}\")\n",
      "grd0.GetXaxis().SetTitle(\"d_{0}/#sigma_{d_{0}}\")\n",
      "grd0.GetYaxis().SetTitle(\"Number of events with d_{0}/#sigma_{d_{0}} > x \")\n",
      "\n",
      "func_fit_d0 = TF1(\"fit_function_d0\",\"[0]*exp([1]*x)\", 0, 10)\n",
      "\n",
      "grd0.Fit(\"fit_function_d0\")\n",
      "c2 = TCanvas(\"c2\", \"c2\", 600, 600)\n",
      "c2.Draw()\n",
      "grd0.Draw(\"AP\")\n",
      "c2"
     ],
     "language": "python",
     "metadata": {},
     "outputs": [
      {
       "metadata": {},
       "output_type": "pyout",
       "png": "[encoded data removed]",
       "prompt_number": 2,
       "text": [
        "<ROOT.TCanvas object (\"c2\") at 0x7ff96bfa1c90>"
       ]
      }
     ],
     "prompt_number": 2
    },
    {
     "cell_type": "markdown",
     "metadata": {},
     "source": [
      "Expected bckg at d0/sigma =4"
     ]
    },
    {
     "cell_type": "code",
     "collapsed": false,
     "input": [
      "func_fit_d0(4)"
     ],
     "language": "python",
     "metadata": {},
     "outputs": [
      {
       "metadata": {},
       "output_type": "pyout",
       "prompt_number": 5,
       "text": [
        "1.3489864025873974e-05"
       ]
      }
     ],
     "prompt_number": 5
    },
    {
     "cell_type": "code",
     "collapsed": false,
     "input": [
      "error_in_fit(func_fit_d0, 4)"
     ],
     "language": "python",
     "metadata": {},
     "outputs": [
      {
       "metadata": {},
       "output_type": "pyout",
       "prompt_number": 5,
       "text": [
        "5.539788075913435e-06"
       ]
      }
     ],
     "prompt_number": 5
    },
    {
     "cell_type": "code",
     "collapsed": false,
     "input": [],
     "language": "python",
     "metadata": {},
     "outputs": []
    }
   ],
   "metadata": {}
  }
 ]
}