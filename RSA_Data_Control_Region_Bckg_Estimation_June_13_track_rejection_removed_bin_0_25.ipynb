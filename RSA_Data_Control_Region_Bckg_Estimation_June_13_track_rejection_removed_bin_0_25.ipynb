{
 "metadata": {
  "name": "",
  "signature": "sha256:f3b953d6a0bf0bf98b95af536a7ebe650720bd281b4273b0a01593f95ac70c94"
 },
 "nbformat": 3,
 "nbformat_minor": 0,
 "worksheets": [
  {
   "cells": [
    {
     "cell_type": "code",
     "collapsed": false,
     "input": [
      "from math import sqrt\n",
      "import ROOT\n",
      "from ROOT import TFile, TDirectory, TH1F, TCanvas, TLegend, TLine, TText, TPad, TF1\n",
      "import rootnotes\n",
      "ROOT.gStyle.SetErrorX(0) #To remove horizontal bars...\n",
      "#gStyle.SetTitleYSize(0.02)"
     ],
     "language": "python",
     "metadata": {},
     "outputs": [],
     "prompt_number": 1
    },
    {
     "cell_type": "markdown",
     "metadata": {},
     "source": [
      "Acceptance is defined as\n",
      "- $p_T > 21$ GeV/c\n",
      "- $|\\eta| < 2$\n",
      "- gen-decay length < 500 cm"
     ]
    },
    {
     "cell_type": "heading",
     "level": 1,
     "metadata": {},
     "source": [
      "Background"
     ]
    },
    {
     "cell_type": "markdown",
     "metadata": {},
     "source": [
      "We have 2D d0Sig vs. LxySig plots for both control region of data. We sliced LxySig axis into the bins each of which has a width of 0.25. Note that at least for this purpose, we cut on d0Sig, absolute value of which is to be less than several numbers. "
     ]
    },
    {
     "cell_type": "code",
     "collapsed": false,
     "input": [
      "inputFileData = TFile.Open(\"/Users/melihsolmaz/Desktop/ipython/Data22Jan_combined_2saMu_June_13_trackrejected_bin_width_0_25.root\")\n",
      "#nMinus1_looseCollCuts = inputFileData.Get(\"nMinus1_leptonD0Sig_vs_LxySig_looseCollCuts\")\n",
      "nMinus1_looseControlCollCuts = inputFileData.Get(\"nMinus1_leptonD0Sig_vs_LxySig_looseControlCollCuts\")\n",
      "\n",
      "def LxySig_distribution(x):\n",
      "    #rootprint\n",
      "#final_region_dist = ROOT.TH1F(\"final_region\", \"\", 24, 0, 12)\n",
      "    control_region_dist = ROOT.TH1F(\"control_region\"+str(x), \"\", 80, 0, 20)\n",
      "\n",
      "#Some Histogram Settings\n",
      "    control_region_dist.GetXaxis().SetTitle(\"L_{xy}/#sigma_{L_{xy}}\")\n",
      "    control_region_dist.GetYaxis().SetTitle(\"Number of events\")\n",
      "    control_region_dist.SetTitle(\"#scale[0.8]{CMS Preliminary #sqrt{s} = 8 TeV, L = 20.5 fb^{-1}}\")\n",
      "\n",
      "#final_region_dist.SetStats(0)\n",
      "    control_region_dist.SetStats(0)\n",
      "#final_region_dist.SetMarkerStyle(8)\n",
      "    control_region_dist.SetMarkerStyle(21)\n",
      "#final_region_dist.SetMarkerColor(2)\n",
      "    control_region_dist.SetMarkerColor(1)\n",
      "#final_region_dist.SetLineColor(2)\n",
      "    control_region_dist.SetLineColor(1)\n",
      "#final_region_dist.Sumw2\n",
      "    control_region_dist.Sumw2\n",
      "\n",
      "#control_region_dist.SetMaximum(400.0)\n",
      "\n",
      "\n",
      "#nYbins= nMinus1_looseControlCollCuts.GetNbinsY()\n",
      "#print \"nYbins= \", nYbins\n",
      "\n",
      "#nXbins= nMinus1_looseControlCollCuts.GetNbinsX()\n",
      "#print \"nXbins= \", nXbins\n",
      "\n",
      "#Loop to write down new histos...\n",
      "\n",
      "    for i in range(1,80):\n",
      "#    final_region_dist.SetBinContent(i, nMinus1_looseCollCuts.Integral(1, 8, i, 12))\n",
      "        control_region_dist.SetBinContent(i, nMinus1_looseControlCollCuts.Integral(4*x+1, 160, i, i))\n",
      "\n",
      "# Legend\n",
      "    leg = TLegend(0.6,0.6,0.85,0.85)\n",
      "    leg.SetFillColor(0)\n",
      "    leg.SetLineColor(0)\n",
      "#leg.AddEntry(final_region_dist, \"Signal (|#Delta#Phi| < #pi/2)\", \"pl\")\n",
      "    leg.AddEntry(control_region_dist, \"Control (|#Delta#Phi| > #pi/2)\", \"pl\")\n",
      "\n",
      "#Line\n",
      "    line = TLine(6, 0, 6, 100)\n",
      "    line.SetLineColor(4)\n",
      "    line.SetLineStyle(2)\n",
      "\n",
      "#Text\n",
      "    text1 = TText(7, 1, \"Excluded Region\")\n",
      "    text2 = TText(9, 100, \"Data\")\n",
      "\n",
      "#Add fit function...\n",
      "    f1 = TF1(\"f1\",\"expo\", 7, 20)\n",
      "#    f1.SetParameter()\n",
      "\n",
      "#Fit histogram...\n",
      "    control_region_dist.Fit(\"f1\", \"R\")\n",
      "    \n",
      "#print \"total number of entries = \", control_region_dist.GetEntries()    \n",
      "    canvas=TCanvas()\n",
      "    control_region_dist.Draw(\"e\")\n",
      "#final_region_dist.Draw(\"esame\")\n",
      "#    leg.Draw(\"same\")\n",
      "#    line.Draw()\n",
      "#    text1.Draw()\n",
      "#    text2.Draw()\n",
      "    canvas.Draw()\n",
      "#    canvas.SetLogy(True)\n",
      "#canvas\n",
      "    return canvas, control_region_dist, f1 \n",
      "    \n",
      "\n"
     ],
     "language": "python",
     "metadata": {},
     "outputs": [],
     "prompt_number": 2
    },
    {
     "cell_type": "markdown",
     "metadata": {},
     "source": [
      "d0Sig > 0:"
     ]
    },
    {
     "cell_type": "code",
     "collapsed": false,
     "input": [
      "result = LxySig_distribution(0)\n",
      "result[0]"
     ],
     "language": "python",
     "metadata": {},
     "outputs": [
      {
       "metadata": {},
       "output_type": "pyout",
       "png": "[encoded data removed]",
       "prompt_number": 3,
       "text": [
        "<ROOT.TCanvas object (\"c1\") at 0x7f8c074e84a0>"
       ]
      }
     ],
     "prompt_number": 3
    },
    {
     "cell_type": "markdown",
     "metadata": {},
     "source": [
      "d0Sig > 1:"
     ]
    },
    {
     "cell_type": "code",
     "collapsed": false,
     "input": [
      "result1 = LxySig_distribution(1)\n",
      "result1[0]"
     ],
     "language": "python",
     "metadata": {},
     "outputs": [
      {
       "metadata": {},
       "output_type": "pyout",
       "png": "[encoded data removed]",
       "prompt_number": 4,
       "text": [
        "<ROOT.TCanvas object (\"c1_n2\") at 0x7f8c07015680>"
       ]
      }
     ],
     "prompt_number": 4
    },
    {
     "cell_type": "markdown",
     "metadata": {},
     "source": [
      "d0Sig > 2:"
     ]
    },
    {
     "cell_type": "code",
     "collapsed": false,
     "input": [
      "result2 = LxySig_distribution(2)\n",
      "result2[0]"
     ],
     "language": "python",
     "metadata": {},
     "outputs": [
      {
       "metadata": {},
       "output_type": "pyout",
       "png": "[encoded data removed]",
       "prompt_number": 5,
       "text": [
        "<ROOT.TCanvas object (\"c1_n3\") at 0x7f8c07016010>"
       ]
      }
     ],
     "prompt_number": 5
    },
    {
     "cell_type": "markdown",
     "metadata": {},
     "source": [
      "d0Sig > 3:"
     ]
    },
    {
     "cell_type": "code",
     "collapsed": false,
     "input": [
      "result3 = LxySig_distribution(3)\n",
      "result3[0]"
     ],
     "language": "python",
     "metadata": {},
     "outputs": [
      {
       "metadata": {},
       "output_type": "pyout",
       "png": "[encoded data removed]",
       "prompt_number": 6,
       "text": [
        "<ROOT.TCanvas object (\"c1_n4\") at 0x7f8c077bbb60>"
       ]
      }
     ],
     "prompt_number": 6
    },
    {
     "cell_type": "markdown",
     "metadata": {},
     "source": [
      "d0Sig > 4"
     ]
    },
    {
     "cell_type": "code",
     "collapsed": false,
     "input": [
      "result4 = LxySig_distribution(4)\n",
      "result4[0]"
     ],
     "language": "python",
     "metadata": {},
     "outputs": [
      {
       "metadata": {},
       "output_type": "pyout",
       "png": "[encoded data removed]",
       "prompt_number": 3,
       "text": [
        "<ROOT.TCanvas object (\"c1_n2\") at 0x7ffee5f6b080>"
       ]
      }
     ],
     "prompt_number": 3
    },
    {
     "cell_type": "markdown",
     "metadata": {},
     "source": [
      "Take integration from 12 to 1000"
     ]
    },
    {
     "cell_type": "code",
     "collapsed": false,
     "input": [
      "f2 = result4[2]"
     ],
     "language": "python",
     "metadata": {},
     "outputs": [],
     "prompt_number": 6
    },
    {
     "cell_type": "code",
     "collapsed": false,
     "input": [
      "f2.Integral(12, 1000)"
     ],
     "language": "python",
     "metadata": {},
     "outputs": [
      {
       "metadata": {},
       "output_type": "pyout",
       "prompt_number": 5,
       "text": [
        "8.68473179293944"
       ]
      }
     ],
     "prompt_number": 5
    },
    {
     "cell_type": "code",
     "collapsed": false,
     "input": [
      "f2.IntegralError(12, 1000)"
     ],
     "language": "python",
     "metadata": {},
     "outputs": [
      {
       "metadata": {},
       "output_type": "pyout",
       "prompt_number": 6,
       "text": [
        "2.178243981435873"
       ]
      }
     ],
     "prompt_number": 6
    },
    {
     "cell_type": "markdown",
     "metadata": {},
     "source": [
      "The overall result is 1.63 +-0.76 was before(gaussion fit...)..."
     ]
    },
    {
     "cell_type": "markdown",
     "metadata": {},
     "source": [
      "With this exponential function it became 8.68+-2.17"
     ]
    },
    {
     "cell_type": "code",
     "collapsed": false,
     "input": [
      "f2.GetChisquare()"
     ],
     "language": "python",
     "metadata": {},
     "outputs": [
      {
       "metadata": {},
       "output_type": "pyout",
       "prompt_number": 7,
       "text": [
        "17.473366218733258"
       ]
      }
     ],
     "prompt_number": 7
    },
    {
     "cell_type": "code",
     "collapsed": false,
     "input": [
      "f2.GetNDF()"
     ],
     "language": "python",
     "metadata": {},
     "outputs": [
      {
       "metadata": {},
       "output_type": "pyout",
       "prompt_number": 8,
       "text": [
        "31"
       ]
      }
     ],
     "prompt_number": 8
    },
    {
     "cell_type": "code",
     "collapsed": false,
     "input": [],
     "language": "python",
     "metadata": {},
     "outputs": []
    }
   ],
   "metadata": {}
  }
 ]
}